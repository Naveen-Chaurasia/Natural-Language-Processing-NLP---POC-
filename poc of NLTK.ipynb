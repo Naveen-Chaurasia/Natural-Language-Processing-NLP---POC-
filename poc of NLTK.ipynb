{
 "cells": [
  {
   "cell_type": "code",
   "execution_count": 118,
   "metadata": {},
   "outputs": [
    {
     "name": "stderr",
     "output_type": "stream",
     "text": [
      "[nltk_data] Downloading package punkt to\n",
      "[nltk_data]     C:\\Users\\navee\\AppData\\Roaming\\nltk_data...\n",
      "[nltk_data]   Package punkt is already up-to-date!\n",
      "[nltk_data] Downloading package stopwords to\n",
      "[nltk_data]     C:\\Users\\navee\\AppData\\Roaming\\nltk_data...\n",
      "[nltk_data]   Package stopwords is already up-to-date!\n"
     ]
    },
    {
     "data": {
      "text/plain": [
       "array([ 0.00257508,  0.00421137, -0.00040741, -0.00487378,  0.00460889,\n",
       "       -0.00364398,  0.00034733, -0.0033723 , -0.00161448, -0.00147974,\n",
       "       -0.00366852,  0.00443603, -0.00161161,  0.00449861, -0.00098081,\n",
       "        0.00445487, -0.00262281,  0.00033138,  0.0025699 ,  0.00158219,\n",
       "        0.00431424, -0.00440426, -0.00072065, -0.00455653,  0.00435378,\n",
       "        0.00102899,  0.00400438,  0.00056111,  0.0030387 ,  0.00133731,\n",
       "       -0.00103681, -0.00067658,  0.00317219,  0.00247384, -0.00084299,\n",
       "        0.0044572 , -0.00194291,  0.00060084,  0.00427785,  0.00444116,\n",
       "        0.00118179, -0.00479556,  0.00492119, -0.00011342,  0.00041055,\n",
       "        0.00255512,  0.00115598, -0.00191697,  0.00339095, -0.00322364,\n",
       "       -0.00332211, -0.00258153,  0.00331482, -0.0024083 ,  0.0037456 ,\n",
       "       -0.00185791,  0.00343482,  0.00395592,  0.00490832,  0.00423661,\n",
       "        0.0042431 ,  0.00490217,  0.00212528,  0.00269307,  0.00310468,\n",
       "       -0.00422352, -0.00125754,  0.0040885 ,  0.00250859,  0.00268603,\n",
       "        0.00137951,  0.00352271,  0.0003158 , -0.00182239, -0.00242807,\n",
       "        0.0023585 ,  0.00126407,  0.00262207, -0.00293929, -0.00455215,\n",
       "        0.00319166,  0.00195171, -0.00094847,  0.00435385, -0.00462329,\n",
       "       -0.00044563,  0.00044062,  0.00375826,  0.00088787,  0.00172967,\n",
       "        0.00276672,  0.00151712,  0.00055728, -0.00393534,  0.00444636,\n",
       "        0.00337772, -0.00067201, -0.00349656,  0.00035039,  0.00496503],\n",
       "      dtype=float32)"
      ]
     },
     "execution_count": 118,
     "metadata": {},
     "output_type": "execute_result"
    }
   ],
   "source": [
    "import nltk\n",
    "\n",
    "from gensim.models import Word2Vec\n",
    "from nltk.corpus import stopwords\n",
    "\n",
    "import re\n",
    "paragraph = \"\"\"I have three visions for India. In 3000 years of our history, people from all over \n",
    "               the world have come and invaded us, captured our lands, conquered our minds. \n",
    "               From Alexander onwards, the Greeks, the Turks, the Moguls, the Portuguese, the British,\n",
    "               the French, the Dutch, all of them came and looted us, took over what was ours. \n",
    "               Yet we have not done this to any other nation. We have not conquered anyone. \n",
    "               We have not grabbed their land, their culture, \n",
    "               their history and tried to enforce our way of life on them. \n",
    "               Why? Because we respect the freedom of others.That is why my \n",
    "               first vision is that of freedom. I believe that India got its first vision of \n",
    "               this in 1857, when we started the War of Independence. It is this freedom that\n",
    "               we must protect and nurture and build on. If we are not free, no one will respect us.\n",
    "               My second vision for India’s development. For fifty years we have been a developing nation.\n",
    "               It is time we see ourselves as a developed nation. We are among the top 5 nations of the world\n",
    "               in terms of GDP. We have a 10 percent growth rate in most areas. Our poverty levels are falling.\n",
    "               Our achievements are being globally recognised today. Yet we lack the self-confidence to\n",
    "               see ourselves as a developed nation, self-reliant and self-assured. Isn’t this incorrect?\n",
    "               I have a third vision. India must stand up to the world. Because I believe that unless India \n",
    "               stands up to the world, no one will respect us. Only strength respects strength. We must be \n",
    "               strong not only as a military power but also as an economic power. Both must go hand-in-hand. \n",
    "               My good fortune was to have worked with three great minds. Dr. Vikram Sarabhai of the Dept. of \n",
    "               space, Professor Satish Dhawan, who succeeded him and Dr. Brahm Prakash, father of nuclear material.\n",
    "               I was lucky to have worked with all three of them closely and consider this the great opportunity of my life. \n",
    "               I see four milestones in my career\"\"\"\n",
    "\n",
    "#preprocessing\n",
    "\n",
    "text = re.sub(r'\\[[0-9]*\\]',' ',paragraph)\n",
    "text\n",
    "text = re.sub(r'\\s+',' ',text)\n",
    "text = text.lower()\n",
    "text = re.sub(r'\\d',' ',text)\n",
    "text = re.sub(r'\\s+',' ',text)\n",
    "text\n",
    "nltk.download('punkt')\n",
    "\n",
    "#preparing\n",
    "\n",
    "sentences=nltk.sent_tokenize(text)\n",
    "sentences\n",
    "\n",
    "sentences=[nltk.word_tokenize(sentence) for sentence in sentences]\n",
    "sentences\n",
    "nltk.download('stopwords')\n",
    "for i in range  (len(sentences)):\n",
    "    sentences[i]=[word for word in sentences[i] if word not in stopwords.words('english')]\n",
    "    #print(sentences)\n",
    "    \n",
    "#training\n",
    "\n",
    "model=Word2Vec(sentences,min_count=1)\n",
    "words=model.wv.vocab\n",
    "words\n",
    "vector=model.wv['war']\n",
    "vector\n"
   ]
  },
  {
   "cell_type": "code",
   "execution_count": null,
   "metadata": {},
   "outputs": [],
   "source": []
  }
 ],
 "metadata": {
  "kernelspec": {
   "display_name": "Python 3",
   "language": "python",
   "name": "python3"
  },
  "language_info": {
   "codemirror_mode": {
    "name": "ipython",
    "version": 3
   },
   "file_extension": ".py",
   "mimetype": "text/x-python",
   "name": "python",
   "nbconvert_exporter": "python",
   "pygments_lexer": "ipython3",
   "version": "3.8.5"
  }
 },
 "nbformat": 4,
 "nbformat_minor": 4
}
